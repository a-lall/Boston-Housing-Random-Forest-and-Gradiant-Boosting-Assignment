{
 "cells": [
  {
   "cell_type": "markdown",
   "metadata": {},
   "source": [
    "**Boston Housing Study 2 (Python)**\n",
    "\n",
    "\n",
    "**This study uses data from the Boston Housing Study case as described in \"Marketing Data Science: Modeling Techniques for Predictive Analytics with R and Python\" (Miller 2015) to evaluate four regression modeling methodes, including Stochastic Gradient Descent, Lasso Regression, Random Forest, and Gradiant Boosting Regressor. An alternative version of Random forest and Gradiant Boosting Regressor with different hyperparameter settings are also included for comaprison purpose. These methods are evaluated within a 5-fold cross-validation design, using root mean-squared error (RMSE) as an index of prediction error.**\n",
    "\n",
    "**The results show that the performance of Random Forests and Gradient Boosting methods are highly impacted by their hyperparameter settings. They can either outperform or underperform SGD and Lasso, depending on the values assigned to hyperparameter(s). The better-performed Random Forest model and better_performed Gradient Boosting model are each applied to the full data set, with Gradient Boosting model reaches 1.0 perfect explained_variance score, outperforming Random Forest model. Therefore, Gradient Boosting method is the recommended method to use.**\n",
    "\n",
    "**Both Random Forest and Gradient Boosting methods indentified criminal as the most important feature in predicting house value. Age is recognized by both models as the second important explainatory variable in predicting house values.** \n"
   ]
  },
  {
   "cell_type": "markdown",
   "metadata": {},
   "source": [
    "*Seed value for random number generators to obtain reproducible results*"
   ]
  },
  {
   "cell_type": "code",
   "execution_count": 1,
   "metadata": {},
   "outputs": [],
   "source": [
    "RANDOM_SEED = 1"
   ]
  },
  {
   "cell_type": "markdown",
   "metadata": {},
   "source": [
    "*Import base packages into the namespace for this program*"
   ]
  },
  {
   "cell_type": "code",
   "execution_count": 2,
   "metadata": {},
   "outputs": [],
   "source": [
    "import numpy as np\n",
    "import pandas as pd"
   ]
  },
  {
   "cell_type": "markdown",
   "metadata": {},
   "source": [
    "*Read data for the Boston Housing Study*"
   ]
  },
  {
   "cell_type": "code",
   "execution_count": 3,
   "metadata": {},
   "outputs": [],
   "source": [
    "boston_input = pd.read_csv('boston.csv')"
   ]
  },
  {
   "cell_type": "markdown",
   "metadata": {},
   "source": [
    "*Drop neighborhood from the data being considered*"
   ]
  },
  {
   "cell_type": "code",
   "execution_count": 4,
   "metadata": {},
   "outputs": [
    {
     "name": "stdout",
     "output_type": "stream",
     "text": [
      "\n",
      "General description of the boston DataFrame:\n",
      "<class 'pandas.core.frame.DataFrame'>\n",
      "RangeIndex: 506 entries, 0 to 505\n",
      "Data columns (total 13 columns):\n",
      "crim       506 non-null float64\n",
      "zn         506 non-null float64\n",
      "indus      506 non-null float64\n",
      "chas       506 non-null int64\n",
      "nox        506 non-null float64\n",
      "rooms      506 non-null float64\n",
      "age        506 non-null float64\n",
      "dis        506 non-null float64\n",
      "rad        506 non-null int64\n",
      "tax        506 non-null int64\n",
      "ptratio    506 non-null float64\n",
      "lstat      506 non-null float64\n",
      "mv         506 non-null float64\n",
      "dtypes: float64(10), int64(3)\n",
      "memory usage: 51.5 KB\n",
      "None\n"
     ]
    }
   ],
   "source": [
    "boston = boston_input.drop('neighborhood', 1)\n",
    "print('\\nGeneral description of the boston DataFrame:')\n",
    "print(boston.info())"
   ]
  },
  {
   "cell_type": "code",
   "execution_count": 5,
   "metadata": {},
   "outputs": [
    {
     "name": "stdout",
     "output_type": "stream",
     "text": [
      "\n",
      "Descriptive statistics of the boston DataFrame:\n",
      "             crim          zn       indus        chas         nox       rooms  \\\n",
      "count  506.000000  506.000000  506.000000  506.000000  506.000000  506.000000   \n",
      "mean     3.613524   11.363636   11.136779    0.069170    0.554695    6.284634   \n",
      "std      8.601545   23.322453    6.860353    0.253994    0.115878    0.702617   \n",
      "min      0.006320    0.000000    0.460000    0.000000    0.385000    3.561000   \n",
      "25%      0.082045    0.000000    5.190000    0.000000    0.449000    5.885500   \n",
      "50%      0.256510    0.000000    9.690000    0.000000    0.538000    6.208500   \n",
      "75%      3.677082   12.500000   18.100000    0.000000    0.624000    6.623500   \n",
      "max     88.976200  100.000000   27.740000    1.000000    0.871000    8.780000   \n",
      "\n",
      "              age         dis         rad         tax     ptratio       lstat  \\\n",
      "count  506.000000  506.000000  506.000000  506.000000  506.000000  506.000000   \n",
      "mean    68.574901    3.795043    9.549407  408.237154   18.455534   12.653063   \n",
      "std     28.148861    2.105710    8.707259  168.537116    2.164946    7.141062   \n",
      "min      2.900000    1.129600    1.000000  187.000000   12.600000    1.730000   \n",
      "25%     45.025000    2.100175    4.000000  279.000000   17.400000    6.950000   \n",
      "50%     77.500000    3.207450    5.000000  330.000000   19.050000   11.360000   \n",
      "75%     94.075000    5.188425   24.000000  666.000000   20.200000   16.955000   \n",
      "max    100.000000   12.126500   24.000000  711.000000   22.000000   37.970000   \n",
      "\n",
      "               mv  \n",
      "count  506.000000  \n",
      "mean    22.528854  \n",
      "std      9.182176  \n",
      "min      5.000000  \n",
      "25%     17.025000  \n",
      "50%     21.200000  \n",
      "75%     25.000000  \n",
      "max     50.000000  \n"
     ]
    }
   ],
   "source": [
    "print('\\nDescriptive statistics of the boston DataFrame:')\n",
    "print(boston.describe())"
   ]
  },
  {
   "cell_type": "markdown",
   "metadata": {},
   "source": [
    "*Set up preliminary data for data for fitting the models. Let the first column is the median housing value response, and the remaining columns are the explanatory variables*"
   ]
  },
  {
   "cell_type": "code",
   "execution_count": 6,
   "metadata": {},
   "outputs": [],
   "source": [
    "prelim_model_data = np.array([boston.mv,\\\n",
    "    boston.crim,\\\n",
    "    boston.zn,\\\n",
    "    boston.indus,\\\n",
    "    boston.chas,\\\n",
    "    boston.nox,\\\n",
    "    boston.rooms,\\\n",
    "    boston.age,\\\n",
    "    boston.dis,\\\n",
    "    boston.rad,\\\n",
    "    boston.tax,\\\n",
    "    boston.ptratio,\\\n",
    "    boston.lstat]).T"
   ]
  },
  {
   "cell_type": "code",
   "execution_count": 7,
   "metadata": {},
   "outputs": [
    {
     "name": "stdout",
     "output_type": "stream",
     "text": [
      "\n",
      "Data dimensions: (506, 13)\n"
     ]
    }
   ],
   "source": [
    "print('\\nData dimensions:', prelim_model_data.shape)"
   ]
  },
  {
   "cell_type": "code",
   "execution_count": 8,
   "metadata": {},
   "outputs": [],
   "source": [
    "model_data = prelim_model_data"
   ]
  },
  {
   "cell_type": "markdown",
   "metadata": {},
   "source": [
    "*Set up the regression modeling methods: stochastic gradient descent, lasso Regression, random forest, and gradiant boosting regressor.*"
   ]
  },
  {
   "cell_type": "code",
   "execution_count": 29,
   "metadata": {},
   "outputs": [],
   "source": [
    "from sklearn.linear_model import SGDRegressor\n",
    "from sklearn.linear_model import Lasso\n",
    "from sklearn.ensemble import RandomForestRegressor\n",
    "from sklearn.ensemble import GradientBoostingRegressor\n",
    "\n",
    "names = [\"SDG\", \"Lasso\", \"RandomForest1\", \"RandomForest2\", \n",
    "         'GradientBoosting1', 'GradientBoosting2']\n",
    "classifiers = [SGDRegressor(max_iter=1000, tol=1e-3, penalty=None, eta0=0.1, \n",
    "                            random_state=RANDOM_SEED),\n",
    "               Lasso(alpha=0.1, random_state=RANDOM_SEED),\n",
    "               RandomForestRegressor(n_estimators=500, max_leaf_nodes=16, n_jobs=-1, \n",
    "                                     max_features = 4, random_state=RANDOM_SEED),\n",
    "               RandomForestRegressor(n_estimators=500, max_leaf_nodes=16, n_jobs=-1, \n",
    "                                     max_features = 1, random_state=RANDOM_SEED),\n",
    "               GradientBoostingRegressor(max_depth=5, n_estimators=500, \n",
    "                                         learning_rate=0.1, random_state=RANDOM_SEED),\n",
    "               GradientBoostingRegressor(max_depth=5, n_estimators=500, \n",
    "                                         learning_rate=1.0, random_state=RANDOM_SEED)]"
   ]
  },
  {
   "cell_type": "markdown",
   "metadata": {},
   "source": [
    "*Setup for calculating evaluation metric: RSME*"
   ]
  },
  {
   "cell_type": "code",
   "execution_count": 10,
   "metadata": {},
   "outputs": [],
   "source": [
    "from sklearn.metrics import mean_squared_error \n",
    "from math import sqrt "
   ]
  },
  {
   "cell_type": "markdown",
   "metadata": {},
   "source": [
    "*Specify the k-fold cross-validation design. n_folds is set to be 5. This is because typically, given these considerations, one performs k-fold cross-validation using k = 5 or k = 10, as these values have been shown empirically to yield test error rate estimates that suffer neither from excessively high bias nor from very high variance. (James, Witten, Hastie, and Tibshirani, 2017)*"
   ]
  },
  {
   "cell_type": "code",
   "execution_count": 11,
   "metadata": {},
   "outputs": [],
   "source": [
    "from sklearn.model_selection import KFold\n",
    "N_FOLDS = 5\n",
    "kf = KFold(n_splits = N_FOLDS, shuffle=False, random_state = RANDOM_SEED)"
   ]
  },
  {
   "cell_type": "markdown",
   "metadata": {},
   "source": [
    "*Set up numpy array for storing results*"
   ]
  },
  {
   "cell_type": "code",
   "execution_count": 1,
   "metadata": {},
   "outputs": [
    {
     "ename": "NameError",
     "evalue": "name 'np' is not defined",
     "output_type": "error",
     "traceback": [
      "\u001b[1;31m---------------------------------------------------------------------------\u001b[0m",
      "\u001b[1;31mNameError\u001b[0m                                 Traceback (most recent call last)",
      "\u001b[1;32m<ipython-input-1-bbeb5c3a44bc>\u001b[0m in \u001b[0;36m<module>\u001b[1;34m\u001b[0m\n\u001b[1;32m----> 1\u001b[1;33m \u001b[0mcv_results\u001b[0m \u001b[1;33m=\u001b[0m \u001b[0mnp\u001b[0m\u001b[1;33m.\u001b[0m\u001b[0mzeros\u001b[0m\u001b[1;33m(\u001b[0m\u001b[1;33m(\u001b[0m\u001b[1;36m4\u001b[0m\u001b[1;33m,\u001b[0m \u001b[1;36m5\u001b[0m\u001b[1;33m)\u001b[0m\u001b[1;33m)\u001b[0m\u001b[1;33m\u001b[0m\u001b[1;33m\u001b[0m\u001b[0m\n\u001b[0m",
      "\u001b[1;31mNameError\u001b[0m: name 'np' is not defined"
     ]
    }
   ],
   "source": [
    "cv_results = np.zeros(4, 5)"
   ]
  },
  {
   "cell_type": "markdown",
   "metadata": {},
   "source": [
    "*Considering the various scale of each varialbe, we will standardize the explantory variables on the train sets and then transform the test sets with the parameters learned from the train sets. Setup the standardization using sklearn.preprocessing.StandardScaler.*"
   ]
  },
  {
   "cell_type": "code",
   "execution_count": 13,
   "metadata": {},
   "outputs": [],
   "source": [
    "from sklearn.preprocessing import StandardScaler\n",
    "sc = StandardScaler()"
   ]
  },
  {
   "cell_type": "markdown",
   "metadata": {},
   "source": [
    "*Use the five specified methods to train on each fold of the train set and evaluate RMSE on each fold of test set. The results will be stored in cv_results.Codes reference: Miller, 2017 evaluate-classifiers-v001.py*"
   ]
  },
  {
   "cell_type": "code",
   "execution_count": 30,
   "metadata": {},
   "outputs": [
    {
     "name": "stdout",
     "output_type": "stream",
     "text": [
      "\n",
      "Fold index: 0 ------------------------------------------\n",
      "\n",
      "Fold index: 1 ------------------------------------------\n",
      "\n",
      "Fold index: 2 ------------------------------------------\n",
      "\n",
      "Fold index: 3 ------------------------------------------\n",
      "\n",
      "Fold index: 4 ------------------------------------------\n"
     ]
    }
   ],
   "source": [
    "index_for_fold = 0 \n",
    "for train_index, test_index in kf.split(model_data):\n",
    "    print('\\nFold index:', index_for_fold,\n",
    "          '------------------------------------------')   \n",
    "    X_train_original = model_data[train_index, 0:model_data.shape[1]-1]\n",
    "    X_train = sc.fit_transform(X_train_original)\n",
    "    X_test_original = model_data[test_index, 0:model_data.shape[1]-1]\n",
    "    X_test = sc.transform (X_test_original)\n",
    "    y_train = model_data[train_index, model_data.shape[1]-1]\n",
    "    y_test = model_data[test_index, model_data.shape[1]-1]   \n",
    "    \n",
    "    index_for_method = 0 \n",
    "    for name, clf in zip(names, classifiers):\n",
    "        clf.fit(X_train, y_train) \n",
    "        y_test_predict = clf.predict(X_test)\n",
    "        mse = mean_squared_error(y_test, y_test_predict)\n",
    "        rmse = sqrt(mse)\n",
    "        cv_results[index_for_fold, index_for_method] = rmse\n",
    "        index_for_method += 1\n",
    "  \n",
    "    index_for_fold += 1"
   ]
  },
  {
   "cell_type": "code",
   "execution_count": 31,
   "metadata": {},
   "outputs": [],
   "source": [
    "cv_results_df = pd.DataFrame(cv_results)\n",
    "cv_results_df.columns = names"
   ]
  },
  {
   "cell_type": "code",
   "execution_count": 32,
   "metadata": {},
   "outputs": [
    {
     "name": "stdout",
     "output_type": "stream",
     "text": [
      "        SDG     Lasso  RandomForest1  RandomForest2  GradientBoosting1  \\\n",
      "0  3.589419  3.569505       3.762934       4.248199           3.387930   \n",
      "1  4.243806  4.214762       3.590035       4.582711           3.209381   \n",
      "2  4.668449  4.261365       3.675043       4.074266           3.575690   \n",
      "3  4.823993  4.597577       4.097584       4.928922           4.495073   \n",
      "4  4.566410  4.266279       4.208358       4.429359           4.649866   \n",
      "\n",
      "   GradientBoosting2  \n",
      "0           3.762610  \n",
      "1           4.903872  \n",
      "2           3.946595  \n",
      "3           6.671067  \n",
      "4           5.149337  \n"
     ]
    }
   ],
   "source": [
    "print(cv_results_df)"
   ]
  },
  {
   "cell_type": "code",
   "execution_count": 33,
   "metadata": {},
   "outputs": [
    {
     "name": "stdout",
     "output_type": "stream",
     "text": [
      "\n",
      "----------------------------------------------\n",
      "Average results from 5-fold cross-validation\n",
      "\n",
      "Method                 RMSE\n",
      "SDG                  4.378416\n",
      "Lasso                4.181898\n",
      "RandomForest1        3.866791\n",
      "RandomForest2        4.452691\n",
      "GradientBoosting1    3.863588\n",
      "GradientBoosting2    4.886696\n",
      "dtype: float64\n"
     ]
    }
   ],
   "source": [
    "print('\\n----------------------------------------------')\n",
    "print('Average results from ', N_FOLDS, '-fold cross-validation\\n',\n",
    "      '\\nMethod                 RMSE', sep = '')     \n",
    "print(cv_results_df.mean())   "
   ]
  },
  {
   "cell_type": "markdown",
   "metadata": {},
   "source": [
    "As we can see, the performance of Random Forest and Gradient Boosting methods varies depending on their hyperparameters settings. In the case of Random Forest, the version with max_feature = 4 (log2(n), recommended by Müller and Guido) which beats Stochastic Gradient Descent AND Lasso Regression, significantly outperforms the one with max_feature = 1 which underperforms in comparison to Stochastic Gradient Descent and Lasso Regression. Similary, the version of Gradient Boosting with learning_rate = 0.1 outperforms both Stochastic Gradient Descent, Lasso Regression, while the version with learning_rate set to be 1.0 underperforms. "
   ]
  },
  {
   "cell_type": "markdown",
   "metadata": {},
   "source": [
    "*Apply the better-performed Random Forest model to the full data set.*"
   ]
  },
  {
   "cell_type": "code",
   "execution_count": 18,
   "metadata": {},
   "outputs": [],
   "source": [
    "X = model_data[:, 0:model_data.shape[1]-1]\n",
    "y = model_data[:, model_data.shape[1]-1]"
   ]
  },
  {
   "cell_type": "code",
   "execution_count": 34,
   "metadata": {},
   "outputs": [],
   "source": [
    "rnd = RandomForestRegressor(n_estimators=500, max_leaf_nodes=16, \n",
    "                            n_jobs=-1, max_features = 4, random_state=RANDOM_SEED)\n",
    "rnd.fit(X, y) \n",
    "y_predict = rnd.predict(X)"
   ]
  },
  {
   "cell_type": "markdown",
   "metadata": {},
   "source": [
    "*Calculate performance metrics: (1) explained variance score; (2) rmse*"
   ]
  },
  {
   "cell_type": "code",
   "execution_count": 35,
   "metadata": {},
   "outputs": [
    {
     "name": "stdout",
     "output_type": "stream",
     "text": [
      "\n",
      "----------------------------------------------\n",
      "The RMSE of Random Forest Model is: 2.6807\n",
      "The explained variance score of Random Forest Model is: 0.8588\n"
     ]
    }
   ],
   "source": [
    "from sklearn.metrics import explained_variance_score, r2_score\n",
    "\n",
    "mse_rnd = mean_squared_error(y, y_predict)\n",
    "rmse_rnd = sqrt(mse_rnd)\n",
    "evs = explained_variance_score(y, y_predict)  \n",
    "\n",
    "print('\\n----------------------------------------------')\n",
    "print('The RMSE of Random Forest Model is: {:.4f}'.format(rmse_rnd))     \n",
    "print('The explained variance score of Random Forest Model is: {:.4f}'.format(evs)) "
   ]
  },
  {
   "cell_type": "markdown",
   "metadata": {},
   "source": [
    "After applying the preferred Random Forest model to the full dataset, the RMSE is significantly improved in comparison to its performance on the test set. "
   ]
  },
  {
   "cell_type": "markdown",
   "metadata": {},
   "source": [
    "*Calcualte feature_importance_score to identify variables that are important in predicting the home price*"
   ]
  },
  {
   "cell_type": "code",
   "execution_count": 22,
   "metadata": {},
   "outputs": [
    {
     "name": "stdout",
     "output_type": "stream",
     "text": [
      "Feature importances:\n",
      "[0.37953002 0.08412689 0.00201146 0.12246476 0.00346613 0.06168909\n",
      " 0.13552531 0.10805916 0.06185678 0.00349341 0.02723245 0.01054453]\n"
     ]
    }
   ],
   "source": [
    "print(\"Feature importances:\\n{}\".format(rnd.feature_importances_))"
   ]
  },
  {
   "cell_type": "markdown",
   "metadata": {},
   "source": [
    "*Define function plot_feature_importances as demonstrated by Müller and Guido in Introduction to Machine Learning with Python (p77) to visualize the feature importance score of rnd model.*"
   ]
  },
  {
   "cell_type": "code",
   "execution_count": 36,
   "metadata": {},
   "outputs": [
    {
     "data": {
      "image/png": "[encoded data removed]",
      "text/plain": [
       "<Figure size 432x288 with 1 Axes>"
      ]
     },
     "metadata": {},
     "output_type": "display_data"
    }
   ],
   "source": [
    "import matplotlib.pyplot as plt\n",
    "\n",
    "def plot_feature_importances(model, feature_name):\n",
    "    n_features = model_data.shape[1]-1\n",
    "    plt.barh(range(n_features), model.feature_importances_, align='center')\n",
    "    plt.yticks(np.arange(n_features), feature_name)\n",
    "    plt.xlabel(\"Feature importance\")\n",
    "    plt.ylabel(\"Feature\")\n",
    "\n",
    "names = ('crim', 'zn', 'indus', 'chas', 'nox', 'rooms', 'age', 'dis', \n",
    "         'rad', 'tax', 'ptratio', 'lstate')\n",
    "plot_feature_importances(rnd, names)"
   ]
  },
  {
   "cell_type": "markdown",
   "metadata": {},
   "source": [
    "The top 3 leading explainatory variables identified by the Random Forest model are: crim, age, and chas."
   ]
  },
  {
   "cell_type": "markdown",
   "metadata": {},
   "source": [
    "*Apply the better-performed Gradient Boosting Regressing model to the full data set.*"
   ]
  },
  {
   "cell_type": "code",
   "execution_count": 37,
   "metadata": {},
   "outputs": [],
   "source": [
    "gbr = GradientBoostingRegressor(max_depth=5, n_estimators=500, \n",
    "                                learning_rate=0.1, random_state=RANDOM_SEED)\n",
    "gbr.fit(X, y) \n",
    "y_predict_1 = gbr.predict(X)"
   ]
  },
  {
   "cell_type": "markdown",
   "metadata": {},
   "source": [
    "*Calculate performance metrics: (1) explained variance score; (2) rmse*"
   ]
  },
  {
   "cell_type": "code",
   "execution_count": 38,
   "metadata": {},
   "outputs": [
    {
     "name": "stdout",
     "output_type": "stream",
     "text": [
      "\n",
      "----------------------------------------------\n",
      "The RMSE of Gradient Boosting Regression Model is: 0.0377\n",
      "The explained variance score of Gradient BoostingRegression Model is: 1.0000\n"
     ]
    }
   ],
   "source": [
    "mse_gbr = mean_squared_error(y, y_predict_1)\n",
    "rmse_gbr = sqrt(mse_gbr)\n",
    "evs_gbr = explained_variance_score(y, y_predict_1)  \n",
    "\n",
    "print('\\n----------------------------------------------')\n",
    "print('The RMSE of Gradient Boosting Regression Model is: {:.4f}'.format(rmse_gbr))     \n",
    "print('The explained variance score of Gradient Boosting' \n",
    "      'Regression Model is: {:.4f}'.format(evs_gbr)) "
   ]
  },
  {
   "cell_type": "markdown",
   "metadata": {},
   "source": [
    "After applying the preferred Gradient Boosting model to the full dataset, the RMSE is significantly improved in comparison to its performance on the test set. The model reached a perfect 1.0 explained variance score on the full data set. It outperforms the Random Forest model. Therefore, I will recommend the management to use Gradient Boosting method. "
   ]
  },
  {
   "cell_type": "markdown",
   "metadata": {},
   "source": [
    "*Calcualte feature_importance_score to identify variables that are important in predicting the home price*"
   ]
  },
  {
   "cell_type": "code",
   "execution_count": 39,
   "metadata": {},
   "outputs": [
    {
     "name": "stdout",
     "output_type": "stream",
     "text": [
      "Feature importances of Gradient Boosting Regression Model:\n",
      "[6.32111496e-01 3.15261829e-02 5.35752505e-04 7.17299135e-03\n",
      " 2.95934672e-03 1.65044114e-02 1.92788980e-01 5.52784355e-02\n",
      " 4.16122245e-02 4.10332659e-03 7.03958428e-03 8.36726874e-03]\n"
     ]
    }
   ],
   "source": [
    "print(\"Feature importances of Gradient Boosting Regression Model:\\n{}\"\n",
    "      .format(gbr.feature_importances_))"
   ]
  },
  {
   "cell_type": "markdown",
   "metadata": {},
   "source": [
    "*Visualize the feature_importance_score with pre-defined function.* "
   ]
  },
  {
   "cell_type": "code",
   "execution_count": 40,
   "metadata": {},
   "outputs": [
    {
     "data": {
      "image/png": "[encoded data removed]",
      "text/plain": [
       "<Figure size 432x288 with 1 Axes>"
      ]
     },
     "metadata": {},
     "output_type": "display_data"
    }
   ],
   "source": [
    "plot_feature_importances(gbr, names)"
   ]
  },
  {
   "cell_type": "markdown",
   "metadata": {},
   "source": [
    "The top 3 leading explainatory variables identified by the Gradient Boosting model are: crim, age, and dis."
   ]
  },
  {
   "cell_type": "markdown",
   "metadata": {},
   "source": [
    "Both models identified crim as the most important indicator for housing value. Age is also recognized by both models as the second most import explainatory variable. "
   ]
  }
 ],
 "metadata": {
  "kernelspec": {
   "display_name": "Python 3",
   "language": "python",
   "name": "python3"
  },
  "language_info": {
   "codemirror_mode": {
    "name": "ipython",
    "version": 3
   },
   "file_extension": ".py",
   "mimetype": "text/x-python",
   "name": "python",
   "nbconvert_exporter": "python",
   "pygments_lexer": "ipython3",
   "version": "3.6.8"
  }
 },
 "nbformat": 4,
 "nbformat_minor": 2
}
